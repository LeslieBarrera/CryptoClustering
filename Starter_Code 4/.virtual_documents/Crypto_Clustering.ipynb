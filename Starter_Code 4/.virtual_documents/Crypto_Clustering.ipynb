# Import required libraries and dependencies
import pandas as pd
from sklearn.cluster import KMeans
from sklearn.decomposition import PCA
from sklearn.preprocessing import StandardScaler


# Load the data into a Pandas DataFrame and make the index the "coin_id" column.
market_data_df = pd.read_csv("Resources/crypto_market_data.csv", index_col="coin_id")

# Display sample data
market_data_df.head(10)


# Generate summary statistics
market_data_df.describe()





# Use the `StandardScaler()` module from scikit-learn to normalize the data from the CSV file
from sklearn.preprocessing import StandardScaler

# Instantiate the scaler
scaler = StandardScaler()

# Fit and transform the data to scale it
scaled_data = scaler.fit_transform(market_data_df)


# Create a DataFrame with the scaled data
scaled_df = pd.DataFrame(scaled_data, index=market_data_df.index, columns=market_data_df.columns)

# Copy the crypto names from the original data
crypto_names = market_data_df.index.tolist()

# Set the coin_id column as index
scaled_df.index.name = "coin_id"

# Display sample data
scaled_df.head(10)





# Create a list with the number of k-values to try
# Use a range from 1 to 11
from sklearn.cluster import KMeans
import matplotlib.pyplot as plt

k_values = range(1, 12)

# Create an empty list to store the inertia values
inertia = []

# Create a for loop to compute the inertia with each possible value of k
for k in k_values:
    # 1. Create a KMeans model using the loop counter for the n_clusters
    model = KMeans(n_clusters=k, random_state=1)
    # 2. Fit the model to the data using the scaled DataFrame
    model.fit(scaled_df)
    # 3. Append the model.inertia_ to the inertia list
    inertia.append(model.inertia_)

# Create a dictionary with the data to plot the Elbow curve
elbow_data = {"k": k_values, "inertia": inertia}

# Create a DataFrame with the data to plot the Elbow curve
elbow_df = pd.DataFrame(elbow_data)

# Display the DataFrame
elbow_df


# Plot a line chart with all the inertia values computed with 
# the different values of k to visually identify the optimal value for k.
plt.figure(figsize=(10, 6))
plt.plot(elbow_df["k"], elbow_df["inertia"], marker="o")
plt.title("Elbow Curve")
plt.xlabel("Number of Clusters (k)")
plt.ylabel("Inertia")
plt.show()








# Initialize the K-Means model using the best value for k
optimal_k = 4
kmeans = KMeans(n_clusters=optimal_k, random_state=1)



# Fit the K-Means model using the scaled data
kmeans.fit(scaled_df)


# Predict the clusters to group the cryptocurrencies using the scaled data
clusters = kmeans.predict(scaled_df)

# View the resulting array of cluster values.
print(clusters)


# Create a copy of the DataFrame
clustered_df = scaled_df.copy()


# Add a new column to the DataFrame with the predicted clusters
clustered_df["Cluster"] = clusters

# Display sample data
print(clustered_df.head())


# Create a scatter plot using Pandas plot by setting 
# `x="price_change_percentage_24h"` and `y="price_change_percentage_7d"`.
# Use "rainbow" for the color to better visualize the data.
clustered_df.plot.scatter(
    x="price_change_percentage_24h", 
    y="price_change_percentage_7d", 
    c="Cluster", 
    colormap="rainbow", 
    figsize=(10, 6), 
    title="Cryptocurrency Clusters"
)
plt.show()





# Create a PCA model instance and set `n_components=3`.
from sklearn.decomposition import PCA

pca = PCA(n_components=3)



# Use the PCA model with `fit_transform` on the original scaled DataFrame to reduce to three principal components.
pca_data = pca.fit_transform(scaled_df)

# View the first five rows of the DataFrame.
pca_df = pd.DataFrame(
    pca_data, 
    index=scaled_df.index, 
    columns=["PC1", "PC2", "PC3"]
)
print(pca_df.head())


# Retrieve the explained variance to determine how much information can be attributed to each principal component.
explained_variance = pca.explained_variance_ratio_.sum()
print(f"Total Explained Variance: {explained_variance:.2f}")





# Create a new DataFrame with the PCA data.
pca_df = pd.DataFrame(
    pca_data, 
    index=scaled_df.index, 
    columns=["PC1", "PC2", "PC3"]
)

# Copy the crypto names from the original data
pca_df["coin_id"] = crypto_names

# Set the coinid column as index
pca_df.set_index("coin_id", inplace=True)

# Display sample data
print(pca_df.head())






# Create a list with the number of k-values to try
pca_k_values = range(1, 12)

# Create an empty list to store the inertia values
pca_inertia = []

# Create a for loop to compute the inertia with each possible value of k
for k in pca_k_values:
    # 1. Create a KMeans model using the loop counter for the n_clusters
    model = KMeans(n_clusters=k, random_state=1)
    # 2. Fit the model to the data using PCA DataFrame
    model.fit(pca_df)
    # 3. Append the model.inertia_ to the inertia list
    pca_inertia.append(model.inertia_)

# Create a dictionary with the data to plot the Elbow curve
pca_elbow_data = {"k": pca_k_values, "inertia": pca_inertia}

# Create a DataFrame with the data to plot the Elbow curve
pca_elbow_df = pd.DataFrame(pca_elbow_data)

# Display the DataFrame
print(pca_elbow_df)



# Plot a line chart with all the inertia values computed with 
# the different values of k to visually identify the optimal value for k.
plt.figure(figsize=(10, 6))
plt.plot(pca_elbow_df["k"], pca_elbow_df["inertia"], marker="o")
plt.title("Elbow Curve (PCA Data)")
plt.xlabel("Number of Clusters (k)")
plt.ylabel("Inertia")
plt.show()








# Initialize the K-Means model using the best value for k
kmeans_pca = KMeans(n_clusters=optimal_k, random_state=1)



# Fit the K-Means model using the PCA data
kmeans_pca.fit(pca_df)


# Predict the clusters to group the cryptocurrencies using the PCA data
pca_clusters = kmeans_pca.predict(pca_df)

# Print the resulting array of cluster values.
print(pca_clusters)


# Create a copy of the DataFrame with the PCA data
clustered_pca_df = pca_df.copy()

# Add a new column to the DataFrame with the predicted clusters
clustered_pca_df["Cluster"] = pca_clusters

# Display sample data
print(clustered_pca_df.head())


# Create a scatter plot by setting `x="PC1"` and `y="PC2"`.
clustered_pca_df.plot.scatter(
    x="PC1", 
    y="PC2", 
    c="Cluster", 
    colormap="rainbow", 
    figsize=(10, 6), 
    title="Cryptocurrency Clusters (PCA Data)"
)
plt.show()





# Use the columns from the original scaled DataFrame as the index
pca_components_df = pd.DataFrame(
    pca.components_, 
    columns=scaled_df.columns, 
    index=["PC1", "PC2", "PC3"]
)

# Display the PCA components DataFrame
print(pca_components_df)






